{
 "cells": [
  {
   "cell_type": "code",
   "execution_count": 1,
   "metadata": {},
   "outputs": [
    {
     "ename": "ModuleNotFoundError",
     "evalue": "No module named 'pandas'",
     "output_type": "error",
     "traceback": [
      "\u001b[1;31m---------------------------------------------------------------------------\u001b[0m",
      "\u001b[1;31mModuleNotFoundError\u001b[0m                       Traceback (most recent call last)",
      "\u001b[1;32mc:\\Users\\Sowjanya\\OneDrive\\Desktop\\ML_EXP\\ML_EXP2\\Implementation-of-Simple-Linear-Regression-Model-for-Predicting-the-Marks-Scored\\ml_exp2.ipynb Cell 1\u001b[0m in \u001b[0;36m2\n\u001b[0;32m      <a href='vscode-notebook-cell:/c%3A/Users/Sowjanya/OneDrive/Desktop/ML_EXP/ML_EXP2/Implementation-of-Simple-Linear-Regression-Model-for-Predicting-the-Marks-Scored/ml_exp2.ipynb#W0sZmlsZQ%3D%3D?line=0'>1</a>\u001b[0m \u001b[39mimport\u001b[39;00m \u001b[39mnumpy\u001b[39;00m \u001b[39mas\u001b[39;00m \u001b[39mnp\u001b[39;00m\n\u001b[1;32m----> <a href='vscode-notebook-cell:/c%3A/Users/Sowjanya/OneDrive/Desktop/ML_EXP/ML_EXP2/Implementation-of-Simple-Linear-Regression-Model-for-Predicting-the-Marks-Scored/ml_exp2.ipynb#W0sZmlsZQ%3D%3D?line=1'>2</a>\u001b[0m \u001b[39mimport\u001b[39;00m \u001b[39mpandas\u001b[39;00m \u001b[39mas\u001b[39;00m \u001b[39mpd\u001b[39;00m\n\u001b[0;32m      <a href='vscode-notebook-cell:/c%3A/Users/Sowjanya/OneDrive/Desktop/ML_EXP/ML_EXP2/Implementation-of-Simple-Linear-Regression-Model-for-Predicting-the-Marks-Scored/ml_exp2.ipynb#W0sZmlsZQ%3D%3D?line=2'>3</a>\u001b[0m \u001b[39mimport\u001b[39;00m \u001b[39mmatplotlib\u001b[39;00m\u001b[39m.\u001b[39;00m\u001b[39mpyplot\u001b[39;00m \u001b[39mas\u001b[39;00m \u001b[39mplt\u001b[39;00m\n\u001b[0;32m      <a href='vscode-notebook-cell:/c%3A/Users/Sowjanya/OneDrive/Desktop/ML_EXP/ML_EXP2/Implementation-of-Simple-Linear-Regression-Model-for-Predicting-the-Marks-Scored/ml_exp2.ipynb#W0sZmlsZQ%3D%3D?line=3'>4</a>\u001b[0m \u001b[39mfrom\u001b[39;00m \u001b[39msklearn\u001b[39;00m\u001b[39m.\u001b[39;00m\u001b[39mlinear_model\u001b[39;00m \u001b[39mimport\u001b[39;00m LinearRegression\n",
      "\u001b[1;31mModuleNotFoundError\u001b[0m: No module named 'pandas'"
     ]
    }
   ],
   "source": [
    "import numpy as np\n",
    "import pandas as pd\n",
    "import matplotlib.pyplot as plt\n",
    "from sklearn.linear_model import LinearRegression\n",
    "from sklearn.model_selection import train_test_split\n",
    "dataset=pd.read_csv('/content/student_scores.csv')\n",
    "dataset.head()\n",
    "dataset.tail()\n",
    "x=dataset.iloc[:,:-1].values #.iloc[:,start_col,end_col]\n",
    "y=dataset.iloc[:,1].values\n",
    "print(x)\n",
    "print(y)\n",
    "x_train,x_test,y_train,y_test=train_test_split(x,y,test_size=1/3,random_state=0\n",
    ")\n",
    "regressor=LinearRegression()\n",
    "regressor.fit(x_train,y_train)\n",
    "#for train values\n",
    "y_pred=regressor.predict(x_test)\n",
    "plt.scatter(x_train,y_train,color='red')\n",
    "plt.plot(x_train,regressor.predict(x_train),color='green')\n",
    "plt.title(\"Hours Vs Score(Training set)\")\n",
    "plt.xlabel(\"Hours\")\n",
    "plt.ylabel(\"Score\")\n",
    "plt.show()\n",
    "#for test values\n",
    "y_pred=regressor.predict(x_test)\n",
    "plt.scatter(x_test,y_test,color='blue')\n",
    "plt.plot(x_test,regressor.predict(x_test),color='black')\n",
    "plt.title(\"Hours Vs Score(Test set)\")\n",
    "plt.xlabel(\"Hours\")\n",
    "plt.ylabel(\"Score\")\n",
    "plt.show()"
   ]
  }
 ],
 "metadata": {
  "kernelspec": {
   "display_name": "Python 3",
   "language": "python",
   "name": "python3"
  },
  "language_info": {
   "codemirror_mode": {
    "name": "ipython",
    "version": 3
   },
   "file_extension": ".py",
   "mimetype": "text/x-python",
   "name": "python",
   "nbconvert_exporter": "python",
   "pygments_lexer": "ipython3",
   "version": "3.10.1"
  },
  "orig_nbformat": 4
 },
 "nbformat": 4,
 "nbformat_minor": 2
}
